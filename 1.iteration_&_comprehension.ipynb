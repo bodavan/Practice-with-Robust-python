{
 "cells": [
  {
   "cell_type": "markdown",
   "id": "ae99ffb6",
   "metadata": {},
   "source": [
    "# Iteration"
   ]
  },
  {
   "cell_type": "code",
   "execution_count": null,
   "id": "db4cceb3",
   "metadata": {},
   "outputs": [],
   "source": []
  },
  {
   "cell_type": "code",
   "execution_count": 1,
   "id": "680c3cc6",
   "metadata": {},
   "outputs": [
    {
     "name": "stdout",
     "output_type": "stream",
     "text": [
      "t\n",
      "e\n",
      "x\n",
      "t\n",
      " \n",
      "i\n",
      "t\n",
      "e\n",
      "r\n",
      "a\n",
      "t\n",
      "i\n",
      "o\n",
      "n\n"
     ]
    }
   ],
   "source": [
    "text = \"text iteration\"\n",
    "index = 0\n",
    "while index < len(text):\n",
    "    print(text[index])\n",
    "    index += 1"
   ]
  },
  {
   "cell_type": "code",
   "execution_count": 2,
   "id": "5e5bd0ae",
   "metadata": {},
   "outputs": [
    {
     "name": "stdout",
     "output_type": "stream",
     "text": [
      "t\n",
      "e\n",
      "x\n",
      "t\n",
      " \n",
      "i\n",
      "t\n",
      "e\n",
      "r\n",
      "a\n",
      "t\n",
      "i\n",
      "o\n",
      "n\n"
     ]
    }
   ],
   "source": [
    "for i in text:\n",
    "    print(i)"
   ]
  },
  {
   "cell_type": "markdown",
   "id": "623fbf67",
   "metadata": {},
   "source": [
    "\n",
    "- for loop : For loops are commonly used for iterating over a sequence of elements, such as a list or a string\n",
    "- while loop : when you don't know how many iterations you need to perform"
   ]
  },
  {
   "cell_type": "code",
   "execution_count": 3,
   "id": "c4042ec8",
   "metadata": {},
   "outputs": [
    {
     "name": "stdout",
     "output_type": "stream",
     "text": [
      "iterate until 5: \n",
      "\n",
      "0\n",
      "1\n",
      "2\n",
      "3\n",
      "4\n",
      "5\n",
      "\n",
      "\n",
      "\n",
      "\n",
      "rolling dice until 6 \n",
      "\n",
      "your roll is : 3\n",
      "your roll is : 5\n",
      "your roll is : 4\n",
      "your roll is : 4\n",
      "your roll is : 2\n",
      "your roll is : 1\n",
      "your roll is : 4\n",
      "your roll is : 6\n",
      "Finally your roll is:  6\n",
      "it takes 8 iteration\n",
      "\n",
      "\n",
      "\n",
      "\n",
      "your password: rakib\n",
      "your password: rakib0.1\n"
     ]
    }
   ],
   "source": [
    "# expandiing while loop\n",
    "\n",
    "num = 0\n",
    "print(\"iterate until 5: \\n\")\n",
    "while num < 6:\n",
    "      print(num)\n",
    "      num += 1\n",
    "\n",
    "\"\"\"\n",
    "#when you don't know how many iterations you need to perform.\n",
    "\n",
    "For example, imagine you're writing a program that simulates a game where the user rolls a die until they get a 6.\n",
    "You don't know ahead of time how many rolls it will take, so you could use a while loop:\n",
    "\"\"\"\n",
    "print(\"\\n\\n\\n\")\n",
    "print(\"rolling dice until 6 \\n\")\n",
    "\n",
    "import random\n",
    "roll = 0\n",
    "count = 0\n",
    "while roll != 6:\n",
    "    roll = random.randint(0,6)\n",
    "    count += 1\n",
    "    print(\"your roll is :\",roll)\n",
    "print(\"Finally your roll is: \",roll)\n",
    "print(f\"it takes {count} iteration\")\n",
    "\n",
    "\n",
    "\"\"\"While loops can also be useful when you need to perform an action until a certain condition is met, \n",
    "but you don't have a specific sequence of elements to iterate over.\n",
    "For example, you could use a while loop to read user input until they enter a certain keyword:\"\"\"\n",
    "\n",
    "print(\"\\n\\n\\n\")\n",
    "\n",
    "password = \" \"\n",
    "while password != \"rakib0.1\":\n",
    "    password = input(\"your password: \")"
   ]
  },
  {
   "cell_type": "code",
   "execution_count": 1,
   "id": "8dcb390b",
   "metadata": {},
   "outputs": [
    {
     "name": "stdout",
     "output_type": "stream",
     "text": [
      "your password: rakibokdfj\n",
      "your password: djjjjjjjjjjjjjjjjjjfksajdf\n",
      "your password: rakib0.1\n"
     ]
    }
   ],
   "source": [
    "# password with try and except\n",
    "\n",
    "password = \" \"\n",
    "while password != \"rakib0.1\":\n",
    "    password = input(\"your password: \")\n",
    "    try:\n",
    "        if len(password) < 8:\n",
    "            print(\"your password is less then 8 character , please try again.\")\n",
    "    except ValuError:\n",
    "        print(\"invalid password , please try again.\")"
   ]
  },
  {
   "cell_type": "markdown",
   "id": "e3196a32",
   "metadata": {},
   "source": [
    "# Comprehension"
   ]
  },
  {
   "cell_type": "code",
   "execution_count": 1,
   "id": "1a759c78",
   "metadata": {},
   "outputs": [
    {
     "data": {
      "text/plain": [
       "{1: 1, 2: 4, 3: 9, 4: 16, 5: 25, 6: 36, 7: 49, 8: 64, 9: 81, 10: 100}"
      ]
     },
     "execution_count": 1,
     "metadata": {},
     "output_type": "execute_result"
    }
   ],
   "source": [
    "squares_dict = {x: x**2 for x in range(1, 11)}\n",
    "squares_dict\n",
    "        "
   ]
  },
  {
   "cell_type": "code",
   "execution_count": 2,
   "id": "5e40c8fd",
   "metadata": {},
   "outputs": [
    {
     "name": "stdout",
     "output_type": "stream",
     "text": [
      "[2, 4, 6, 8]\n"
     ]
    }
   ],
   "source": [
    "# Write a Python one-liner using a list comprehension to create a new list containing only the even numbers from a given list of integers.\n",
    "\n",
    "li = [i for i in range(1,10) if i % 2 == 0 ]\n",
    "print(li)"
   ]
  },
  {
   "cell_type": "code",
   "execution_count": 3,
   "id": "bd54500d",
   "metadata": {},
   "outputs": [
    {
     "data": {
      "text/plain": [
       "{'rakib': 5, 'bodavan': 7, 'jabur': 5, 'shubed': 6}"
      ]
     },
     "execution_count": 3,
     "metadata": {},
     "output_type": "execute_result"
    }
   ],
   "source": [
    "# Write a Python one-liner using a dictionary comprehension to create a new dictionary that maps each word in a given list of strings to its length.\n",
    "\n",
    "word = ['rakib',\"bodavan\",\"jabur\",\"shubed\"]\n",
    "comp = {i : len(i) for i in word}\n",
    "comp"
   ]
  },
  {
   "cell_type": "code",
   "execution_count": 4,
   "id": "510ac2ac",
   "metadata": {},
   "outputs": [
    {
     "data": {
      "text/plain": [
       "{'aki',\n",
       " 'darakan',\n",
       " 'ka',\n",
       " 'kirki',\n",
       " 'mera',\n",
       " 'meri',\n",
       " 'nam',\n",
       " 'niche',\n",
       " 'sotokka',\n",
       " 'teri',\n",
       " 'yaha',\n",
       " 'ye'}"
      ]
     },
     "execution_count": 4,
     "metadata": {},
     "output_type": "execute_result"
    }
   ],
   "source": [
    "# Write a Python one-liner using a set comprehension to create a new set containing all the unique words from a given string\n",
    "\n",
    "text = \" mera nam meri meri ye meri sotokka teri ye teri aki yaha meri kirki ka niche meri darakan ka \"\n",
    "comp = { word for word in text.split()}\n",
    "comp"
   ]
  },
  {
   "cell_type": "code",
   "execution_count": 5,
   "id": "8926c681",
   "metadata": {},
   "outputs": [
    {
     "data": {
      "text/plain": [
       "[(2, 4), (3, 9), (4, 16), (5, 25), (6, 36), (7, 49), (8, 64)]"
      ]
     },
     "execution_count": 5,
     "metadata": {},
     "output_type": "execute_result"
    }
   ],
   "source": [
    "# Write a Python one-liner using a list comprehension to create a new list of tuples, where each tuple contains a number from a given list of integers and its square.\n",
    "\n",
    "number = [ 2,3,4,5,6,7,8]\n",
    "comp = [(i,i**2) for i in number]\n",
    "comp"
   ]
  },
  {
   "cell_type": "code",
   "execution_count": 10,
   "id": "5f85265f",
   "metadata": {},
   "outputs": [
    {
     "data": {
      "text/plain": [
       "{\"Don't\": 1,\n",
       " 'cry,': 1,\n",
       " 'snowman,': 1,\n",
       " 'not': 1,\n",
       " 'in': 1,\n",
       " 'front': 1,\n",
       " 'of': 1,\n",
       " 'me': 3,\n",
       " \"Who'll\": 1,\n",
       " 'catch': 3,\n",
       " 'your': 1,\n",
       " 'tears': 1,\n",
       " 'if': 1,\n",
       " 'you': 2,\n",
       " \"can't\": 2,\n",
       " 'me,': 2,\n",
       " 'darling?': 1,\n",
       " 'If': 1,\n",
       " 'darling': 1,\n",
       " 'My': 2,\n",
       " 'snowman': 2,\n",
       " 'and': 2,\n",
       " 'Baby': 1}"
      ]
     },
     "execution_count": 10,
     "metadata": {},
     "output_type": "execute_result"
    }
   ],
   "source": [
    "# Write a Python one-liner using a dictionary comprehension to create a new dictionary that maps each word in a given string to the number of times it appears in the string.\n",
    "\n",
    "sia = \"\"\"Don't cry, snowman, not in front of me\n",
    "Who'll catch your tears if you can't catch me, darling?\n",
    "If you can't catch me, darling\n",
    "\n",
    "My snowman and me\n",
    "My snowman and me\n",
    "Baby\"\"\"\n",
    "\n",
    "comp = {word : sia.split().count(word) for word in sia.split()}\n",
    "comp"
   ]
  },
  {
   "cell_type": "code",
   "execution_count": null,
   "id": "9aef524a",
   "metadata": {},
   "outputs": [],
   "source": []
  }
 ],
 "metadata": {
  "kernelspec": {
   "display_name": "Python 3 (ipykernel)",
   "language": "python",
   "name": "python3"
  },
  "language_info": {
   "codemirror_mode": {
    "name": "ipython",
    "version": 3
   },
   "file_extension": ".py",
   "mimetype": "text/x-python",
   "name": "python",
   "nbconvert_exporter": "python",
   "pygments_lexer": "ipython3",
   "version": "3.10.10"
  }
 },
 "nbformat": 4,
 "nbformat_minor": 5
}
